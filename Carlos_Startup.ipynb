{
 "cells": [
  {
   "cell_type": "code",
   "execution_count": 35,
   "metadata": {},
   "outputs": [],
   "source": [
    "# Dependencies and Setup\n",
    "import matplotlib.pyplot as plt\n",
    "import pandas as pd\n",
    "import numpy as np\n",
    "import json\n",
    "\n",
    "import datetime   # handle date times\n",
    "import re"
   ]
  },
  {
   "cell_type": "code",
   "execution_count": 36,
   "metadata": {},
   "outputs": [
    {
     "data": {
      "text/html": [
       "<div>\n",
       "<style scoped>\n",
       "    .dataframe tbody tr th:only-of-type {\n",
       "        vertical-align: middle;\n",
       "    }\n",
       "\n",
       "    .dataframe tbody tr th {\n",
       "        vertical-align: top;\n",
       "    }\n",
       "\n",
       "    .dataframe thead th {\n",
       "        text-align: right;\n",
       "    }\n",
       "</style>\n",
       "<table border=\"1\" class=\"dataframe\">\n",
       "  <thead>\n",
       "    <tr style=\"text-align: right;\">\n",
       "      <th></th>\n",
       "      <th>Unnamed: 0</th>\n",
       "      <th>ID</th>\n",
       "      <th>Severity</th>\n",
       "      <th>Start_Time</th>\n",
       "      <th>End_Time</th>\n",
       "      <th>Start_Lat</th>\n",
       "      <th>Start_Lng</th>\n",
       "      <th>City</th>\n",
       "      <th>County</th>\n",
       "      <th>State</th>\n",
       "      <th>Zipcode</th>\n",
       "      <th>Country</th>\n",
       "      <th>Visibility(mi)</th>\n",
       "      <th>Weather_Condition</th>\n",
       "      <th>Precipitation(in)</th>\n",
       "      <th>Sunrise_Sunset</th>\n",
       "      <th>Civil_Twilight</th>\n",
       "    </tr>\n",
       "  </thead>\n",
       "  <tbody>\n",
       "    <tr>\n",
       "      <th>0</th>\n",
       "      <td>261007</td>\n",
       "      <td>A-261009</td>\n",
       "      <td>2</td>\n",
       "      <td>2016-11-30 16:03:54</td>\n",
       "      <td>2016-11-30 17:20:00</td>\n",
       "      <td>30.336502</td>\n",
       "      <td>-97.755646</td>\n",
       "      <td>Austin</td>\n",
       "      <td>Travis</td>\n",
       "      <td>TX</td>\n",
       "      <td>78731</td>\n",
       "      <td>US</td>\n",
       "      <td>10.0</td>\n",
       "      <td>Clear</td>\n",
       "      <td>NaN</td>\n",
       "      <td>Day</td>\n",
       "      <td>Day</td>\n",
       "    </tr>\n",
       "    <tr>\n",
       "      <th>1</th>\n",
       "      <td>261008</td>\n",
       "      <td>A-261010</td>\n",
       "      <td>2</td>\n",
       "      <td>2016-11-30 16:32:18</td>\n",
       "      <td>2016-11-30 17:47:02</td>\n",
       "      <td>30.328165</td>\n",
       "      <td>-97.694305</td>\n",
       "      <td>Austin</td>\n",
       "      <td>Travis</td>\n",
       "      <td>TX</td>\n",
       "      <td>78752-2826</td>\n",
       "      <td>US</td>\n",
       "      <td>10.0</td>\n",
       "      <td>Clear</td>\n",
       "      <td>NaN</td>\n",
       "      <td>Day</td>\n",
       "      <td>Day</td>\n",
       "    </tr>\n",
       "    <tr>\n",
       "      <th>2</th>\n",
       "      <td>261009</td>\n",
       "      <td>A-261011</td>\n",
       "      <td>2</td>\n",
       "      <td>2016-11-30 16:31:45</td>\n",
       "      <td>2016-11-30 17:46:34</td>\n",
       "      <td>30.326077</td>\n",
       "      <td>-97.692307</td>\n",
       "      <td>Austin</td>\n",
       "      <td>Travis</td>\n",
       "      <td>TX</td>\n",
       "      <td>78752</td>\n",
       "      <td>US</td>\n",
       "      <td>10.0</td>\n",
       "      <td>Clear</td>\n",
       "      <td>NaN</td>\n",
       "      <td>Day</td>\n",
       "      <td>Day</td>\n",
       "    </tr>\n",
       "    <tr>\n",
       "      <th>3</th>\n",
       "      <td>261010</td>\n",
       "      <td>A-261012</td>\n",
       "      <td>2</td>\n",
       "      <td>2016-11-30 16:06:49</td>\n",
       "      <td>2016-11-30 17:27:00</td>\n",
       "      <td>32.856014</td>\n",
       "      <td>-97.513084</td>\n",
       "      <td>Fort Worth</td>\n",
       "      <td>Tarrant</td>\n",
       "      <td>TX</td>\n",
       "      <td>76135</td>\n",
       "      <td>US</td>\n",
       "      <td>NaN</td>\n",
       "      <td>NaN</td>\n",
       "      <td>NaN</td>\n",
       "      <td>Day</td>\n",
       "      <td>Day</td>\n",
       "    </tr>\n",
       "    <tr>\n",
       "      <th>4</th>\n",
       "      <td>261011</td>\n",
       "      <td>A-261013</td>\n",
       "      <td>3</td>\n",
       "      <td>2016-11-30 16:35:01</td>\n",
       "      <td>2016-11-30 17:49:39</td>\n",
       "      <td>32.797668</td>\n",
       "      <td>-97.212090</td>\n",
       "      <td>Fort Worth</td>\n",
       "      <td>Tarrant</td>\n",
       "      <td>TX</td>\n",
       "      <td>76118</td>\n",
       "      <td>US</td>\n",
       "      <td>NaN</td>\n",
       "      <td>NaN</td>\n",
       "      <td>NaN</td>\n",
       "      <td>Day</td>\n",
       "      <td>Day</td>\n",
       "    </tr>\n",
       "  </tbody>\n",
       "</table>\n",
       "</div>"
      ],
      "text/plain": [
       "   Unnamed: 0        ID  Severity           Start_Time             End_Time  \\\n",
       "0      261007  A-261009         2  2016-11-30 16:03:54  2016-11-30 17:20:00   \n",
       "1      261008  A-261010         2  2016-11-30 16:32:18  2016-11-30 17:47:02   \n",
       "2      261009  A-261011         2  2016-11-30 16:31:45  2016-11-30 17:46:34   \n",
       "3      261010  A-261012         2  2016-11-30 16:06:49  2016-11-30 17:27:00   \n",
       "4      261011  A-261013         3  2016-11-30 16:35:01  2016-11-30 17:49:39   \n",
       "\n",
       "   Start_Lat  Start_Lng        City   County State     Zipcode Country  \\\n",
       "0  30.336502 -97.755646      Austin   Travis    TX       78731      US   \n",
       "1  30.328165 -97.694305      Austin   Travis    TX  78752-2826      US   \n",
       "2  30.326077 -97.692307      Austin   Travis    TX       78752      US   \n",
       "3  32.856014 -97.513084  Fort Worth  Tarrant    TX       76135      US   \n",
       "4  32.797668 -97.212090  Fort Worth  Tarrant    TX       76118      US   \n",
       "\n",
       "   Visibility(mi) Weather_Condition  Precipitation(in) Sunrise_Sunset  \\\n",
       "0            10.0             Clear                NaN            Day   \n",
       "1            10.0             Clear                NaN            Day   \n",
       "2            10.0             Clear                NaN            Day   \n",
       "3             NaN               NaN                NaN            Day   \n",
       "4             NaN               NaN                NaN            Day   \n",
       "\n",
       "  Civil_Twilight  \n",
       "0            Day  \n",
       "1            Day  \n",
       "2            Day  \n",
       "3            Day  \n",
       "4            Day  "
      ]
     },
     "execution_count": 36,
     "metadata": {},
     "output_type": "execute_result"
    }
   ],
   "source": [
    "#df = pd.read_csv('data/US_Accidents_Dec19.csv',encoding='utf-8')\n",
    "#\n",
    "df = pd.read_csv('data/txDF.csv',encoding='utf-8')\n",
    "df.head()"
   ]
  },
  {
   "cell_type": "code",
   "execution_count": 37,
   "metadata": {},
   "outputs": [
    {
     "data": {
      "text/plain": [
       "Index(['Unnamed: 0', 'ID', 'Severity', 'Start_Time', 'End_Time', 'Start_Lat',\n",
       "       'Start_Lng', 'City', 'County', 'State', 'Zipcode', 'Country',\n",
       "       'Visibility(mi)', 'Weather_Condition', 'Precipitation(in)',\n",
       "       'Sunrise_Sunset', 'Civil_Twilight'],\n",
       "      dtype='object')"
      ]
     },
     "execution_count": 37,
     "metadata": {},
     "output_type": "execute_result"
    }
   ],
   "source": [
    "df.columns"
   ]
  },
  {
   "cell_type": "code",
   "execution_count": 38,
   "metadata": {},
   "outputs": [
    {
     "data": {
      "text/plain": [
       "Houston        93245\n",
       "Austin         58553\n",
       "Dallas         57823\n",
       "San Antonio    21613\n",
       "El Paso         9352\n",
       "               ...  \n",
       "Pilot Point        1\n",
       "Buckholts          1\n",
       "Bluff Dale         1\n",
       "Etoile             1\n",
       "Atlanta            1\n",
       "Name: City, Length: 713, dtype: int64"
      ]
     },
     "execution_count": 38,
     "metadata": {},
     "output_type": "execute_result"
    }
   ],
   "source": [
    "columns_of_interest=['ID','Severity','Start_Time','End_Time','Start_Lat', 'Start_Lng', 'City', 'County', 'State',\n",
    "       'Zipcode', 'Country','Visibility(mi)', 'Weather_Condition','Precipitation(in)','Sunrise_Sunset','Civil_Twilight']\n",
    "condition=df['State'] =='TX'\n",
    "txDF=df[condition][columns_of_interest]\n",
    "\n",
    "txDF.head()\n",
    "\n",
    "txDF['City'].value_counts()"
   ]
  },
  {
   "cell_type": "code",
   "execution_count": 39,
   "metadata": {},
   "outputs": [
    {
     "data": {
      "text/plain": [
       "Sunrise_Sunset\n",
       "Day      230645\n",
       "Night     67417\n",
       "Name: ID, dtype: int64"
      ]
     },
     "execution_count": 39,
     "metadata": {},
     "output_type": "execute_result"
    }
   ],
   "source": [
    "# Number of accidents that happen at Night\n",
    "txDF.groupby(['Sunrise_Sunset'])['ID'].count()"
   ]
  },
  {
   "cell_type": "code",
   "execution_count": 40,
   "metadata": {},
   "outputs": [
    {
     "name": "stdout",
     "output_type": "stream",
     "text": [
      "298062\n",
      "14434\n",
      "           ID  Severity           Start_Time             End_Time  Start_Lat  \\\n",
      "598  A-261607         2  2016-12-02 13:37:39  2016-12-02 14:50:57  30.230623   \n",
      "599  A-261608         2  2016-12-02 13:38:31  2016-12-02 14:52:57  30.334192   \n",
      "600  A-261609         3  2016-12-02 13:40:53  2016-12-02 14:55:53  30.231228   \n",
      "603  A-261612         2  2016-12-02 13:59:51  2016-12-02 15:29:39  30.257950   \n",
      "608  A-261617         2  2016-12-02 14:25:24  2016-12-02 15:40:08  30.233406   \n",
      "\n",
      "     Start_Lng    City  County State     Zipcode Country  Visibility(mi)  \\\n",
      "598 -97.813980  Austin  Travis    TX  78745-1331      US            10.0   \n",
      "599 -97.718262  Austin  Travis    TX  78752-3510      US            10.0   \n",
      "600 -97.742569  Austin  Travis    TX       78741      US            10.0   \n",
      "603 -97.715096  Austin  Travis    TX  78702-4759      US            10.0   \n",
      "608 -97.795509  Austin  Travis    TX       78704      US            10.0   \n",
      "\n",
      "    Weather_Condition  Precipitation(in) Sunrise_Sunset Civil_Twilight  \n",
      "598        Light Rain               0.06            Day            Day  \n",
      "599        Light Rain               0.06            Day            Day  \n",
      "600          Overcast               0.05            Day            Day  \n",
      "603        Light Rain               0.06            Day            Day  \n",
      "608        Light Rain               0.01            Day            Day  \n"
     ]
    },
    {
     "data": {
      "text/plain": [
       "count    14434.000000\n",
       "mean         0.099047\n",
       "std          0.184035\n",
       "min          0.010000\n",
       "25%          0.010000\n",
       "50%          0.040000\n",
       "75%          0.100000\n",
       "max          2.940000\n",
       "Name: Precipitation(in), dtype: float64"
      ]
     },
     "execution_count": 40,
     "metadata": {},
     "output_type": "execute_result"
    }
   ],
   "source": [
    "print(len(txDF['Precipitation(in)']))\n",
    "#print(len(txDF['Precipitation(in)'].dropna()))\n",
    "#precipitation=txDF['Precipitation(in)'].dropna()\n",
    "\n",
    "condition = txDF['Precipitation(in)'].notnull() & txDF['Precipitation(in)'] > 0.0\n",
    "precipitation= txDF[condition]\n",
    "\n",
    "print(len(precipitation))\n",
    "print(precipitation.head())\n",
    "\n",
    "precipitation['Precipitation(in)'].describe()\n",
    "\n",
    "# Over 75% where there is some precipitation happen with less than 0.1 inches of rain\n",
    "\n",
    "#precipitation.describe()\n"
   ]
  },
  {
   "cell_type": "code",
   "execution_count": 41,
   "metadata": {},
   "outputs": [
    {
     "data": {
      "text/plain": [
       "Clear                                  76753\n",
       "Mostly Cloudy                          47948\n",
       "Overcast                               45135\n",
       "Partly Cloudy                          37059\n",
       "Scattered Clouds                       25356\n",
       "                                       ...  \n",
       "N/A Precipitation                          2\n",
       "Rain Shower                                2\n",
       "Thunderstorms and Snow                     1\n",
       "Heavy Thunderstorms with Small Hail        1\n",
       "Thunder and Hail / Windy                   1\n",
       "Name: Weather_Condition, Length: 65, dtype: int64"
      ]
     },
     "execution_count": 41,
     "metadata": {},
     "output_type": "execute_result"
    }
   ],
   "source": [
    "txDF['Weather_Condition'].value_counts()"
   ]
  },
  {
   "cell_type": "code",
   "execution_count": 42,
   "metadata": {},
   "outputs": [
    {
     "data": {
      "text/plain": [
       "10.00     232214\n",
       "9.00       10617\n",
       "7.00        8271\n",
       "8.00        6966\n",
       "5.00        5329\n",
       "6.00        4797\n",
       "4.00        4046\n",
       "3.00        3943\n",
       "13.00       3760\n",
       "2.00        2511\n",
       "2.50        1629\n",
       "1.00        1444\n",
       "0.20        1379\n",
       "0.50         912\n",
       "1.50         855\n",
       "1.80         697\n",
       "0.80         627\n",
       "1.20         486\n",
       "0.10         180\n",
       "11.00        146\n",
       "12.00        143\n",
       "20.00        122\n",
       "0.75          97\n",
       "0.25          84\n",
       "0.00          79\n",
       "0.40          19\n",
       "2.80          14\n",
       "0.70          12\n",
       "0.12          11\n",
       "1.90           8\n",
       "15.00          7\n",
       "1.60           5\n",
       "5.50           5\n",
       "0.06           5\n",
       "2.20           4\n",
       "10.50          3\n",
       "111.00         3\n",
       "0.60           3\n",
       "3.50           3\n",
       "1.10           2\n",
       "0.90           2\n",
       "0.63           2\n",
       "46.00          1\n",
       "1.40           1\n",
       "Name: Visibility(mi), dtype: int64"
      ]
     },
     "execution_count": 42,
     "metadata": {},
     "output_type": "execute_result"
    }
   ],
   "source": [
    "txDF['Visibility(mi)'].value_counts()"
   ]
  },
  {
   "cell_type": "code",
   "execution_count": 45,
   "metadata": {},
   "outputs": [],
   "source": [
    "# code fron fast ai\n",
    "# Date Feature Engineering\n",
    "# will split data colum in to corresponding 'Year', 'Month', 'Week', 'Day', 'Dayofweek', 'Dayofyear'\n",
    "\n",
    "def add_datepart(df, fldname, drop=True):\n",
    "    fld = df[fldname]\n",
    "    attributes = ['Year', 'Month', 'Week', 'Day', 'Dayofweek', 'Dayofyear']\n",
    "    #, 'Is_month_end', 'Is_month_start', 'Is_quarter_end', 'Is_quarter_start', 'Is_year_end', 'Is_year_start']\n",
    "    if not np.issubdtype(fld.dtype, np.datetime64):\n",
    "        df[fldname] = fld = pd.to_datetime(fld, infer_datetime_format=True)\n",
    "    targ_pre = re.sub('[Dd]ate$', '', fldname)\n",
    "    for n in attributes:\n",
    "        df[targ_pre+n] = getattr(fld.dt,n.lower())\n",
    "    df[targ_pre+'Elapsed'] = fld.astype(np.int64) // 10**9\n",
    "    if drop: df.drop(fldname, axis=1, inplace=True)\n"
   ]
  },
  {
   "cell_type": "code",
   "execution_count": 46,
   "metadata": {},
   "outputs": [
    {
     "data": {
      "text/plain": [
       "Index(['ID', 'Severity', 'Start_Time', 'End_Time', 'Start_Lat', 'Start_Lng',\n",
       "       'City', 'County', 'State', 'Zipcode', 'Country', 'Visibility(mi)',\n",
       "       'Weather_Condition', 'Precipitation(in)', 'Sunrise_Sunset',\n",
       "       'Civil_Twilight', 'Start_TimeYear', 'Start_TimeMonth', 'Start_TimeWeek',\n",
       "       'Start_TimeDay', 'Start_TimeDayofweek', 'Start_TimeDayofyear',\n",
       "       'Start_TimeElapsed'],\n",
       "      dtype='object')"
      ]
     },
     "execution_count": 46,
     "metadata": {},
     "output_type": "execute_result"
    }
   ],
   "source": [
    "add_datepart(txDF,'Start_Time',False )\n",
    "txDF.columns"
   ]
  },
  {
   "cell_type": "code",
   "execution_count": 47,
   "metadata": {},
   "outputs": [
    {
     "data": {
      "text/html": [
       "<div>\n",
       "<style scoped>\n",
       "    .dataframe tbody tr th:only-of-type {\n",
       "        vertical-align: middle;\n",
       "    }\n",
       "\n",
       "    .dataframe tbody tr th {\n",
       "        vertical-align: top;\n",
       "    }\n",
       "\n",
       "    .dataframe thead th {\n",
       "        text-align: right;\n",
       "    }\n",
       "</style>\n",
       "<table border=\"1\" class=\"dataframe\">\n",
       "  <thead>\n",
       "    <tr style=\"text-align: right;\">\n",
       "      <th></th>\n",
       "      <th>ID</th>\n",
       "      <th>Severity</th>\n",
       "      <th>Start_Time</th>\n",
       "      <th>End_Time</th>\n",
       "      <th>Start_Lat</th>\n",
       "      <th>Start_Lng</th>\n",
       "      <th>City</th>\n",
       "      <th>County</th>\n",
       "      <th>State</th>\n",
       "      <th>Zipcode</th>\n",
       "      <th>...</th>\n",
       "      <th>Precipitation(in)</th>\n",
       "      <th>Sunrise_Sunset</th>\n",
       "      <th>Civil_Twilight</th>\n",
       "      <th>Start_TimeYear</th>\n",
       "      <th>Start_TimeMonth</th>\n",
       "      <th>Start_TimeWeek</th>\n",
       "      <th>Start_TimeDay</th>\n",
       "      <th>Start_TimeDayofweek</th>\n",
       "      <th>Start_TimeDayofyear</th>\n",
       "      <th>Start_TimeElapsed</th>\n",
       "    </tr>\n",
       "  </thead>\n",
       "  <tbody>\n",
       "    <tr>\n",
       "      <th>0</th>\n",
       "      <td>A-261009</td>\n",
       "      <td>2</td>\n",
       "      <td>2016-11-30 16:03:54</td>\n",
       "      <td>2016-11-30 17:20:00</td>\n",
       "      <td>30.336502</td>\n",
       "      <td>-97.755646</td>\n",
       "      <td>Austin</td>\n",
       "      <td>Travis</td>\n",
       "      <td>TX</td>\n",
       "      <td>78731</td>\n",
       "      <td>...</td>\n",
       "      <td>NaN</td>\n",
       "      <td>Day</td>\n",
       "      <td>Day</td>\n",
       "      <td>2016</td>\n",
       "      <td>11</td>\n",
       "      <td>48</td>\n",
       "      <td>30</td>\n",
       "      <td>2</td>\n",
       "      <td>335</td>\n",
       "      <td>1480521834</td>\n",
       "    </tr>\n",
       "    <tr>\n",
       "      <th>1</th>\n",
       "      <td>A-261010</td>\n",
       "      <td>2</td>\n",
       "      <td>2016-11-30 16:32:18</td>\n",
       "      <td>2016-11-30 17:47:02</td>\n",
       "      <td>30.328165</td>\n",
       "      <td>-97.694305</td>\n",
       "      <td>Austin</td>\n",
       "      <td>Travis</td>\n",
       "      <td>TX</td>\n",
       "      <td>78752-2826</td>\n",
       "      <td>...</td>\n",
       "      <td>NaN</td>\n",
       "      <td>Day</td>\n",
       "      <td>Day</td>\n",
       "      <td>2016</td>\n",
       "      <td>11</td>\n",
       "      <td>48</td>\n",
       "      <td>30</td>\n",
       "      <td>2</td>\n",
       "      <td>335</td>\n",
       "      <td>1480523538</td>\n",
       "    </tr>\n",
       "    <tr>\n",
       "      <th>2</th>\n",
       "      <td>A-261011</td>\n",
       "      <td>2</td>\n",
       "      <td>2016-11-30 16:31:45</td>\n",
       "      <td>2016-11-30 17:46:34</td>\n",
       "      <td>30.326077</td>\n",
       "      <td>-97.692307</td>\n",
       "      <td>Austin</td>\n",
       "      <td>Travis</td>\n",
       "      <td>TX</td>\n",
       "      <td>78752</td>\n",
       "      <td>...</td>\n",
       "      <td>NaN</td>\n",
       "      <td>Day</td>\n",
       "      <td>Day</td>\n",
       "      <td>2016</td>\n",
       "      <td>11</td>\n",
       "      <td>48</td>\n",
       "      <td>30</td>\n",
       "      <td>2</td>\n",
       "      <td>335</td>\n",
       "      <td>1480523505</td>\n",
       "    </tr>\n",
       "    <tr>\n",
       "      <th>3</th>\n",
       "      <td>A-261012</td>\n",
       "      <td>2</td>\n",
       "      <td>2016-11-30 16:06:49</td>\n",
       "      <td>2016-11-30 17:27:00</td>\n",
       "      <td>32.856014</td>\n",
       "      <td>-97.513084</td>\n",
       "      <td>Fort Worth</td>\n",
       "      <td>Tarrant</td>\n",
       "      <td>TX</td>\n",
       "      <td>76135</td>\n",
       "      <td>...</td>\n",
       "      <td>NaN</td>\n",
       "      <td>Day</td>\n",
       "      <td>Day</td>\n",
       "      <td>2016</td>\n",
       "      <td>11</td>\n",
       "      <td>48</td>\n",
       "      <td>30</td>\n",
       "      <td>2</td>\n",
       "      <td>335</td>\n",
       "      <td>1480522009</td>\n",
       "    </tr>\n",
       "    <tr>\n",
       "      <th>4</th>\n",
       "      <td>A-261013</td>\n",
       "      <td>3</td>\n",
       "      <td>2016-11-30 16:35:01</td>\n",
       "      <td>2016-11-30 17:49:39</td>\n",
       "      <td>32.797668</td>\n",
       "      <td>-97.212090</td>\n",
       "      <td>Fort Worth</td>\n",
       "      <td>Tarrant</td>\n",
       "      <td>TX</td>\n",
       "      <td>76118</td>\n",
       "      <td>...</td>\n",
       "      <td>NaN</td>\n",
       "      <td>Day</td>\n",
       "      <td>Day</td>\n",
       "      <td>2016</td>\n",
       "      <td>11</td>\n",
       "      <td>48</td>\n",
       "      <td>30</td>\n",
       "      <td>2</td>\n",
       "      <td>335</td>\n",
       "      <td>1480523701</td>\n",
       "    </tr>\n",
       "  </tbody>\n",
       "</table>\n",
       "<p>5 rows × 23 columns</p>\n",
       "</div>"
      ],
      "text/plain": [
       "         ID  Severity          Start_Time             End_Time  Start_Lat  \\\n",
       "0  A-261009         2 2016-11-30 16:03:54  2016-11-30 17:20:00  30.336502   \n",
       "1  A-261010         2 2016-11-30 16:32:18  2016-11-30 17:47:02  30.328165   \n",
       "2  A-261011         2 2016-11-30 16:31:45  2016-11-30 17:46:34  30.326077   \n",
       "3  A-261012         2 2016-11-30 16:06:49  2016-11-30 17:27:00  32.856014   \n",
       "4  A-261013         3 2016-11-30 16:35:01  2016-11-30 17:49:39  32.797668   \n",
       "\n",
       "   Start_Lng        City   County State     Zipcode  ... Precipitation(in)  \\\n",
       "0 -97.755646      Austin   Travis    TX       78731  ...               NaN   \n",
       "1 -97.694305      Austin   Travis    TX  78752-2826  ...               NaN   \n",
       "2 -97.692307      Austin   Travis    TX       78752  ...               NaN   \n",
       "3 -97.513084  Fort Worth  Tarrant    TX       76135  ...               NaN   \n",
       "4 -97.212090  Fort Worth  Tarrant    TX       76118  ...               NaN   \n",
       "\n",
       "   Sunrise_Sunset Civil_Twilight  Start_TimeYear Start_TimeMonth  \\\n",
       "0             Day            Day            2016              11   \n",
       "1             Day            Day            2016              11   \n",
       "2             Day            Day            2016              11   \n",
       "3             Day            Day            2016              11   \n",
       "4             Day            Day            2016              11   \n",
       "\n",
       "  Start_TimeWeek  Start_TimeDay  Start_TimeDayofweek  Start_TimeDayofyear  \\\n",
       "0             48             30                    2                  335   \n",
       "1             48             30                    2                  335   \n",
       "2             48             30                    2                  335   \n",
       "3             48             30                    2                  335   \n",
       "4             48             30                    2                  335   \n",
       "\n",
       "   Start_TimeElapsed  \n",
       "0         1480521834  \n",
       "1         1480523538  \n",
       "2         1480523505  \n",
       "3         1480522009  \n",
       "4         1480523701  \n",
       "\n",
       "[5 rows x 23 columns]"
      ]
     },
     "execution_count": 47,
     "metadata": {},
     "output_type": "execute_result"
    }
   ],
   "source": [
    "txDF.head()"
   ]
  },
  {
   "cell_type": "code",
   "execution_count": 31,
   "metadata": {},
   "outputs": [],
   "source": [
    "def dow(df):\n",
    "    days=[\"Monday\",\"Tuesday\",\"Wednesday\",\"Thursday\",\"Friday\",\"Saturday\",\"Sunday\"]\n",
    "    return days[df]\n",
    "    \n",
    "\n",
    "txDF['Start_TimeDayofweek'] =txDF['Start_TimeDayofweek'].apply(dow)\n"
   ]
  },
  {
   "cell_type": "code",
   "execution_count": 32,
   "metadata": {},
   "outputs": [
    {
     "data": {
      "text/plain": [
       "0    Wednesday\n",
       "1    Wednesday\n",
       "2    Wednesday\n",
       "3    Wednesday\n",
       "4    Wednesday\n",
       "Name: Start_TimeDayofweek, dtype: object"
      ]
     },
     "execution_count": 32,
     "metadata": {},
     "output_type": "execute_result"
    }
   ],
   "source": [
    "txDF['Start_TimeDayofweek'].head()"
   ]
  },
  {
   "cell_type": "code",
   "execution_count": 33,
   "metadata": {},
   "outputs": [
    {
     "data": {
      "text/plain": [
       "<matplotlib.axes._subplots.AxesSubplot at 0x297135439b0>"
      ]
     },
     "execution_count": 33,
     "metadata": {},
     "output_type": "execute_result"
    },
    {
     "data": {
      "image/png": "[encoded data removed]",
      "text/plain": [
       "<Figure size 432x288 with 1 Axes>"
      ]
     },
     "metadata": {
      "needs_background": "light"
     },
     "output_type": "display_data"
    }
   ],
   "source": [
    "txDF['Start_TimeDayofweek'].value_counts().plot(kind='bar',y=dayOfWeek)"
   ]
  },
  {
   "cell_type": "code",
   "execution_count": 55,
   "metadata": {},
   "outputs": [
    {
     "data": {
      "text/plain": [
       "<matplotlib.axes._subplots.AxesSubplot at 0x2971c1fcef0>"
      ]
     },
     "execution_count": 55,
     "metadata": {},
     "output_type": "execute_result"
    },
    {
     "data": {
      "image/png": "[encoded data removed]",
      "text/plain": [
       "<Figure size 432x288 with 1 Axes>"
      ]
     },
     "metadata": {
      "needs_background": "light"
     },
     "output_type": "display_data"
    }
   ],
   "source": [
    "condition = txDF['Start_TimeYear'] == 2017\n",
    "\n",
    "txDF[condition]['Start_TimeMonth'].value_counts().plot(kind='bar',y=dayOfWeek)\n"
   ]
  },
  {
   "cell_type": "code",
   "execution_count": null,
   "metadata": {},
   "outputs": [],
   "source": []
  },
  {
   "cell_type": "code",
   "execution_count": null,
   "metadata": {},
   "outputs": [],
   "source": []
  }
 ],
 "metadata": {
  "kernelspec": {
   "display_name": "Python 3",
   "language": "python",
   "name": "python3"
  },
  "language_info": {
   "codemirror_mode": {
    "name": "ipython",
    "version": 3
   },
   "file_extension": ".py",
   "mimetype": "text/x-python",
   "name": "python",
   "nbconvert_exporter": "python",
   "pygments_lexer": "ipython3",
   "version": "3.7.1"
  }
 },
 "nbformat": 4,
 "nbformat_minor": 2
}
