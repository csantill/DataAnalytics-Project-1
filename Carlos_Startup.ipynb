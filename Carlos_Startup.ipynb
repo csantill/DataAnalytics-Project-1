{
 "cells": [
  {
   "cell_type": "code",
   "execution_count": 1,
   "metadata": {},
   "outputs": [],
   "source": [
    "# Dependencies and Setup\n",
    "import matplotlib.pyplot as plt\n",
    "import pandas as pd\n",
    "import numpy as np\n",
    "import json"
   ]
  },
  {
   "cell_type": "code",
   "execution_count": 2,
   "metadata": {},
   "outputs": [
    {
     "data": {
      "text/html": "<div>\n<style scoped>\n    .dataframe tbody tr th:only-of-type {\n        vertical-align: middle;\n    }\n\n    .dataframe tbody tr th {\n        vertical-align: top;\n    }\n\n    .dataframe thead th {\n        text-align: right;\n    }\n</style>\n<table border=\"1\" class=\"dataframe\">\n  <thead>\n    <tr style=\"text-align: right;\">\n      <th></th>\n      <th>ID</th>\n      <th>Source</th>\n      <th>TMC</th>\n      <th>Severity</th>\n      <th>Start_Time</th>\n      <th>End_Time</th>\n      <th>Start_Lat</th>\n      <th>Start_Lng</th>\n      <th>End_Lat</th>\n      <th>End_Lng</th>\n      <th>...</th>\n      <th>Roundabout</th>\n      <th>Station</th>\n      <th>Stop</th>\n      <th>Traffic_Calming</th>\n      <th>Traffic_Signal</th>\n      <th>Turning_Loop</th>\n      <th>Sunrise_Sunset</th>\n      <th>Civil_Twilight</th>\n      <th>Nautical_Twilight</th>\n      <th>Astronomical_Twilight</th>\n    </tr>\n  </thead>\n  <tbody>\n    <tr>\n      <th>0</th>\n      <td>A-1</td>\n      <td>MapQuest</td>\n      <td>201.0</td>\n      <td>3</td>\n      <td>2016-02-08 05:46:00</td>\n      <td>2016-02-08 11:00:00</td>\n      <td>39.865147</td>\n      <td>-84.058723</td>\n      <td>NaN</td>\n      <td>NaN</td>\n      <td>...</td>\n      <td>False</td>\n      <td>False</td>\n      <td>False</td>\n      <td>False</td>\n      <td>False</td>\n      <td>False</td>\n      <td>Night</td>\n      <td>Night</td>\n      <td>Night</td>\n      <td>Night</td>\n    </tr>\n    <tr>\n      <th>1</th>\n      <td>A-2</td>\n      <td>MapQuest</td>\n      <td>201.0</td>\n      <td>2</td>\n      <td>2016-02-08 06:07:59</td>\n      <td>2016-02-08 06:37:59</td>\n      <td>39.928059</td>\n      <td>-82.831184</td>\n      <td>NaN</td>\n      <td>NaN</td>\n      <td>...</td>\n      <td>False</td>\n      <td>False</td>\n      <td>False</td>\n      <td>False</td>\n      <td>False</td>\n      <td>False</td>\n      <td>Night</td>\n      <td>Night</td>\n      <td>Night</td>\n      <td>Day</td>\n    </tr>\n    <tr>\n      <th>2</th>\n      <td>A-3</td>\n      <td>MapQuest</td>\n      <td>201.0</td>\n      <td>2</td>\n      <td>2016-02-08 06:49:27</td>\n      <td>2016-02-08 07:19:27</td>\n      <td>39.063148</td>\n      <td>-84.032608</td>\n      <td>NaN</td>\n      <td>NaN</td>\n      <td>...</td>\n      <td>False</td>\n      <td>False</td>\n      <td>False</td>\n      <td>False</td>\n      <td>True</td>\n      <td>False</td>\n      <td>Night</td>\n      <td>Night</td>\n      <td>Day</td>\n      <td>Day</td>\n    </tr>\n    <tr>\n      <th>3</th>\n      <td>A-4</td>\n      <td>MapQuest</td>\n      <td>201.0</td>\n      <td>3</td>\n      <td>2016-02-08 07:23:34</td>\n      <td>2016-02-08 07:53:34</td>\n      <td>39.747753</td>\n      <td>-84.205582</td>\n      <td>NaN</td>\n      <td>NaN</td>\n      <td>...</td>\n      <td>False</td>\n      <td>False</td>\n      <td>False</td>\n      <td>False</td>\n      <td>False</td>\n      <td>False</td>\n      <td>Night</td>\n      <td>Day</td>\n      <td>Day</td>\n      <td>Day</td>\n    </tr>\n    <tr>\n      <th>4</th>\n      <td>A-5</td>\n      <td>MapQuest</td>\n      <td>201.0</td>\n      <td>2</td>\n      <td>2016-02-08 07:39:07</td>\n      <td>2016-02-08 08:09:07</td>\n      <td>39.627781</td>\n      <td>-84.188354</td>\n      <td>NaN</td>\n      <td>NaN</td>\n      <td>...</td>\n      <td>False</td>\n      <td>False</td>\n      <td>False</td>\n      <td>False</td>\n      <td>True</td>\n      <td>False</td>\n      <td>Day</td>\n      <td>Day</td>\n      <td>Day</td>\n      <td>Day</td>\n    </tr>\n  </tbody>\n</table>\n<p>5 rows × 49 columns</p>\n</div>",
      "text/plain": "    ID    Source    TMC  Severity           Start_Time             End_Time  \\\n0  A-1  MapQuest  201.0         3  2016-02-08 05:46:00  2016-02-08 11:00:00   \n1  A-2  MapQuest  201.0         2  2016-02-08 06:07:59  2016-02-08 06:37:59   \n2  A-3  MapQuest  201.0         2  2016-02-08 06:49:27  2016-02-08 07:19:27   \n3  A-4  MapQuest  201.0         3  2016-02-08 07:23:34  2016-02-08 07:53:34   \n4  A-5  MapQuest  201.0         2  2016-02-08 07:39:07  2016-02-08 08:09:07   \n\n   Start_Lat  Start_Lng  End_Lat  End_Lng  ...  Roundabout Station   Stop  \\\n0  39.865147 -84.058723      NaN      NaN  ...       False   False  False   \n1  39.928059 -82.831184      NaN      NaN  ...       False   False  False   \n2  39.063148 -84.032608      NaN      NaN  ...       False   False  False   \n3  39.747753 -84.205582      NaN      NaN  ...       False   False  False   \n4  39.627781 -84.188354      NaN      NaN  ...       False   False  False   \n\n  Traffic_Calming Traffic_Signal Turning_Loop Sunrise_Sunset Civil_Twilight  \\\n0           False          False        False          Night          Night   \n1           False          False        False          Night          Night   \n2           False           True        False          Night          Night   \n3           False          False        False          Night            Day   \n4           False           True        False            Day            Day   \n\n  Nautical_Twilight Astronomical_Twilight  \n0             Night                 Night  \n1             Night                   Day  \n2               Day                   Day  \n3               Day                   Day  \n4               Day                   Day  \n\n[5 rows x 49 columns]"
     },
     "execution_count": 2,
     "metadata": {},
     "output_type": "execute_result"
    }
   ],
   "source": [
    "df = pd.read_csv('data/US_Accidents_Dec19.csv',encoding='utf-8')\n",
    "df.head()"
   ]
  },
  {
   "cell_type": "code",
   "execution_count": 3,
   "metadata": {},
   "outputs": [
    {
     "data": {
      "text/plain": "Index(['ID', 'Source', 'TMC', 'Severity', 'Start_Time', 'End_Time',\n       'Start_Lat', 'Start_Lng', 'End_Lat', 'End_Lng', 'Distance(mi)',\n       'Description', 'Number', 'Street', 'Side', 'City', 'County', 'State',\n       'Zipcode', 'Country', 'Timezone', 'Airport_Code', 'Weather_Timestamp',\n       'Temperature(F)', 'Wind_Chill(F)', 'Humidity(%)', 'Pressure(in)',\n       'Visibility(mi)', 'Wind_Direction', 'Wind_Speed(mph)',\n       'Precipitation(in)', 'Weather_Condition', 'Amenity', 'Bump', 'Crossing',\n       'Give_Way', 'Junction', 'No_Exit', 'Railway', 'Roundabout', 'Station',\n       'Stop', 'Traffic_Calming', 'Traffic_Signal', 'Turning_Loop',\n       'Sunrise_Sunset', 'Civil_Twilight', 'Nautical_Twilight',\n       'Astronomical_Twilight'],\n      dtype='object')"
     },
     "execution_count": 3,
     "metadata": {},
     "output_type": "execute_result"
    }
   ],
   "source": [
    "df.columns"
   ]
  },
  {
   "cell_type": "code",
   "execution_count": 4,
   "metadata": {},
   "outputs": [
    {
     "data": {
      "text/plain": "Houston                    93245\nAustin                     58553\nDallas                     57823\nSan Antonio                21613\nEl Paso                     9352\nFort Worth                  8746\nArlington                   3011\nIrving                      2697\nMesquite                    2180\nGrand Prairie               2159\nPflugerville                2152\nManor                       1941\nDel Valle                   1451\nSpring                      1398\nHumble                      1274\nPlano                       1222\nRichardson                  1138\nCarrollton                  1089\nGarland                      989\nWichita Falls                819\nPasadena                     718\nLewisville                   691\nKingwood                     688\nRound Rock                   671\nDenton                       603\nHurst                        576\nLancaster                    573\nDuncanville                  532\nGrapevine                    526\nBellaire                     492\n                           ...  \nPilot Point                    1\nLevelland                      1\nMart                           1\nBriggs                         1\nPort Isabel                    1\nNederland                      1\nFort Hood                      1\nIredell                        1\nMartindale                     1\nTilden                         1\nYorktown                       1\nJermyn                         1\nLovelady                       1\nSour Lake                      1\nPantego                        1\nWink                           1\nClarendon                      1\nGuy                            1\nGoodrich                       1\nCedar Park-Liberty Hill        1\nKempner                        1\nQuitman                        1\nMexia                          1\nPalmview                       1\nWhitney                        1\nOverton                        1\nRefugio                        1\nGregory                        1\nMarathon                       1\nBells                          1\nName: City, Length: 713, dtype: int64"
     },
     "execution_count": 4,
     "metadata": {},
     "output_type": "execute_result"
    }
   ],
   "source": [
    "columns_of_interest=['ID','Severity','Start_Time','End_Time','Start_Lat', 'Start_Lng', 'City', 'County', 'State',\n",
    "       'Zipcode', 'Country','Visibility(mi)', 'Weather_Condition','Precipitation(in)','Sunrise_Sunset','Civil_Twilight']\n",
    "condition=df['State'] =='TX'\n",
    "txDF=df[condition][columns_of_interest]\n",
    "\n",
    "txDF.head()\n",
    "\n",
    "txDF['City'].value_counts()"
   ]
  },
  {
   "cell_type": "code",
   "execution_count": 6,
   "metadata": {},
   "outputs": [
    {
     "data": {
      "text/plain": "Sunrise_Sunset\nDay      230645\nNight     67417\nName: ID, dtype: int64"
     },
     "execution_count": 6,
     "metadata": {},
     "output_type": "execute_result"
    }
   ],
   "source": [
    "# Number of accidents that happen at Night\n",
    "txDF.groupby(['Sunrise_Sunset'])['ID'].count()"
   ]
  },
  {
   "cell_type": "code",
   "execution_count": 23,
   "metadata": {},
   "outputs": [
    {
     "name": "stdout",
     "output_type": "stream",
     "text": "298062\n14434\n              ID  Severity           Start_Time             End_Time  \\\n261605  A-261607         2  2016-12-02 13:37:39  2016-12-02 14:50:57   \n261606  A-261608         2  2016-12-02 13:38:31  2016-12-02 14:52:57   \n261607  A-261609         3  2016-12-02 13:40:53  2016-12-02 14:55:53   \n261610  A-261612         2  2016-12-02 13:59:51  2016-12-02 15:29:39   \n261615  A-261617         2  2016-12-02 14:25:24  2016-12-02 15:40:08   \n\n        Start_Lat  Start_Lng    City  County State     Zipcode Country  \\\n261605  30.230623 -97.813980  Austin  Travis    TX  78745-1331      US   \n261606  30.334192 -97.718262  Austin  Travis    TX  78752-3510      US   \n261607  30.231228 -97.742569  Austin  Travis    TX       78741      US   \n261610  30.257950 -97.715096  Austin  Travis    TX  78702-4759      US   \n261615  30.233406 -97.795509  Austin  Travis    TX       78704      US   \n\n        Visibility(mi) Weather_Condition  Precipitation(in) Sunrise_Sunset  \\\n261605            10.0        Light Rain               0.06            Day   \n261606            10.0        Light Rain               0.06            Day   \n261607            10.0          Overcast               0.05            Day   \n261610            10.0        Light Rain               0.06            Day   \n261615            10.0        Light Rain               0.01            Day   \n\n       Civil_Twilight  \n261605            Day  \n261606            Day  \n261607            Day  \n261610            Day  \n261615            Day  \n"
    },
    {
     "data": {
      "text/plain": "count    14434.000000\nmean         0.099047\nstd          0.184035\nmin          0.010000\n25%          0.010000\n50%          0.040000\n75%          0.100000\nmax          2.940000\nName: Precipitation(in), dtype: float64"
     },
     "execution_count": 23,
     "metadata": {},
     "output_type": "execute_result"
    }
   ],
   "source": [
    "print(len(txDF['Precipitation(in)']))\n",
    "#print(len(txDF['Precipitation(in)'].dropna()))\n",
    "#precipitation=txDF['Precipitation(in)'].dropna()\n",
    "\n",
    "condition = txDF['Precipitation(in)'].notnull() & txDF['Precipitation(in)'] > 0.0\n",
    "precipitation= txDF[condition]\n",
    "\n",
    "print(len(precipitation))\n",
    "print(precipitation.head())\n",
    "\n",
    "precipitation['Precipitation(in)'].describe()\n",
    "\n",
    "# Over 75% where there is some precipitation happen with less than 0.1 inches of rain\n",
    "\n",
    "#precipitation.describe()\n"
   ]
  },
  {
   "cell_type": "code",
   "execution_count": 24,
   "metadata": {},
   "outputs": [
    {
     "data": {
      "text/plain": "Clear                                  76753\nMostly Cloudy                          47948\nOvercast                               45135\nPartly Cloudy                          37059\nScattered Clouds                       25356\nFair                                   24646\nLight Rain                             10485\nCloudy                                  9163\nRain                                    2457\nFog                                     2303\nHaze                                    2189\nLight Drizzle                           1321\nHeavy Rain                               900\nLight Thunderstorms and Rain             831\nThunderstorm                             586\nThunderstorms and Rain                   395\nHeavy Thunderstorms and Rain             373\nLight Rain with Thunder                  356\nThunder                                  256\nMostly Cloudy / Windy                    253\nT-Storm                                  250\nFair / Windy                             241\nMist                                     224\nCloudy / Windy                           219\nHeavy T-Storm                            205\nDrizzle                                  199\nShallow Fog                              155\nPartly Cloudy / Windy                    143\nLight Snow                               141\nPatches of Fog                           129\n                                       ...  \nHeavy Rain / Windy                        26\nSnow                                      26\nLight Freezing Drizzle                    26\nRain / Windy                              25\nT-Storm / Windy                           24\nHeavy Drizzle                             16\nHeavy T-Storm / Windy                     16\nSand                                      14\nLight Ice Pellets                         13\nThunder / Windy                           11\nSmoke                                      9\nShowers in the Vicinity                    8\nHeavy Rain Showers                         6\nDrizzle and Fog                            6\nHaze / Windy                               5\nLight Rain Showers                         5\nLight Drizzle / Windy                      4\nSnow Grains                                4\nLight Haze                                 3\nBlowing Dust                               3\nRain Showers                               3\nLight Fog                                  3\nLight Freezing Fog                         3\nLight Snow / Windy                         2\nRain Shower                                2\nN/A Precipitation                          2\nWintry Mix                                 2\nHeavy Thunderstorms with Small Hail        1\nThunderstorms and Snow                     1\nThunder and Hail / Windy                   1\nName: Weather_Condition, Length: 65, dtype: int64"
     },
     "execution_count": 24,
     "metadata": {},
     "output_type": "execute_result"
    }
   ],
   "source": [
    "txDF['Weather_Condition'].value_counts()"
   ]
  },
  {
   "cell_type": "code",
   "execution_count": 25,
   "metadata": {},
   "outputs": [
    {
     "data": {
      "text/plain": "10.00     232214\n9.00       10617\n7.00        8271\n8.00        6966\n5.00        5329\n6.00        4797\n4.00        4046\n3.00        3943\n13.00       3760\n2.00        2511\n2.50        1629\n1.00        1444\n0.20        1379\n0.50         912\n1.50         855\n1.80         697\n0.80         627\n1.20         486\n0.10         180\n11.00        146\n12.00        143\n20.00        122\n0.75          97\n0.25          84\n0.00          79\n0.40          19\n2.80          14\n0.70          12\n0.12          11\n1.90           8\n15.00          7\n1.60           5\n5.50           5\n0.06           5\n2.20           4\n10.50          3\n111.00         3\n0.60           3\n3.50           3\n1.10           2\n0.90           2\n0.63           2\n46.00          1\n1.40           1\nName: Visibility(mi), dtype: int64"
     },
     "execution_count": 25,
     "metadata": {},
     "output_type": "execute_result"
    }
   ],
   "source": [
    "txDF['Visibility(mi)'].value_counts()"
   ]
  },
  {
   "cell_type": "code",
   "execution_count": null,
   "metadata": {},
   "outputs": [],
   "source": []
  }
 ],
 "metadata": {
  "kernelspec": {
   "display_name": "Python 3",
   "language": "python",
   "name": "python3"
  },
  "language_info": {
   "codemirror_mode": {
    "name": "ipython",
    "version": 3
   },
   "file_extension": ".py",
   "mimetype": "text/x-python",
   "name": "python",
   "nbconvert_exporter": "python",
   "pygments_lexer": "ipython3",
   "version": "2.7.15-final"
  }
 },
 "nbformat": 4,
 "nbformat_minor": 2
}