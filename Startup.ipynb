{
 "cells": [
  {
   "cell_type": "code",
   "execution_count": null,
   "metadata": {},
   "outputs": [],
   "source": [
    "#pip install folium\n",
    "#Install Dtale data frame visualization package\n",
    "#!pip install --upgrade dtale\n"
   ]
  },
  {
   "cell_type": "code",
   "execution_count": null,
   "metadata": {},
   "outputs": [],
   "source": [
    "# Dependencies and Setup\n",
    "import os\n",
    "import matplotlib.pyplot as plt\n",
    "import pandas as pd\n",
    "import numpy as np\n",
    "import json\n",
    "import datetime   # handle date times\n",
    "import re         # regular expression package\n",
    "\n",
    "\n",
    "import folium\n",
    "from folium.plugins import HeatMap\n",
    "\n",
    "import dtale # data Frame visualization\n",
    "\n"
   ]
  },
  {
   "cell_type": "code",
   "execution_count": null,
   "metadata": {},
   "outputs": [],
   "source": [
    "# Check if data has been pickled and if so load pickle\n",
    "# else pickle only the attributes we are interested in, and compress\n",
    "# pickle is much faster/smaller than csv\n",
    "if os.path.exists('data/txDF.pkl') :\n",
    "    txDF=pd.read_pickle('data/txDF.pkl',compression='gzip')\n",
    "else:\n",
    "    \n",
    "    df = pd.read_csv('data/US_Accidents_Dec19.csv',encoding='utf-8')\n",
    "    columns_of_interest=[\n",
    "        'ID','Severity','Start_Time','End_Time','Start_Lat', 'Start_Lng', 'City', \n",
    "        'County', 'State','Zipcode', 'Country','Visibility(mi)', \n",
    "        'Weather_Condition','Precipitation(in)','Sunrise_Sunset','Civil_Twilight'\n",
    "    ]\n",
    "    condition=df['State'] =='TX'\n",
    "    txDF=df[condition][columns_of_interest] \n",
    "    txDF.to_pickle(\"data/txDF.pkl\",compression='gzip')"
   ]
  },
  {
   "cell_type": "code",
   "execution_count": null,
   "metadata": {},
   "outputs": [],
   "source": [
    "# code fron fast ai\n",
    "# Date Feature Engineering\n",
    "# will split data colum in to corresponding 'Year', 'Month', 'Week', 'Day', 'Dayofweek', 'Dayofyear'\n",
    "def add_datepart(df, fldname, drop=True,time=False):\n",
    "    fld = df[fldname]\n",
    "    attributes = ['Year', 'Month', 'Week', 'Day', 'Dayofweek', 'Dayofyear']\n",
    "    if time: attributes = attributes + ['Hour', 'Minute', 'Second']\n",
    "    #, 'Is_month_end', 'Is_month_start', 'Is_quarter_end', 'Is_quarter_start', 'Is_year_end', 'Is_year_start']\n",
    "    if not np.issubdtype(fld.dtype, np.datetime64):\n",
    "        df[fldname] = fld = pd.to_datetime(fld, infer_datetime_format=True)\n",
    "    targ_pre = re.sub('[Dd]ate$', '', fldname)\n",
    "    for n in attributes:\n",
    "        df[targ_pre+n] = getattr(fld.dt,n.lower())\n",
    "    df[targ_pre+'Elapsed'] = fld.astype(np.int64) // 10**9\n",
    "    if drop: df.drop(fldname, axis=1, inplace=True)\n",
    "        \n",
    "add_datepart(txDF,'Start_Time',False,True )        "
   ]
  },
  {
   "cell_type": "code",
   "execution_count": null,
   "metadata": {},
   "outputs": [],
   "source": [
    "# use name for DOW\n",
    "def dow(df):\n",
    "    days=[\"Monday\",\"Tuesday\",\"Wednesday\",\"Thursday\",\"Friday\",\"Saturday\",\"Sunday\"]\n",
    "    return days[df]\n",
    "    \n",
    "\n",
    "txDF['Start_TimeDayofweek'] =txDF['Start_TimeDayofweek'].apply(dow)"
   ]
  },
  {
   "cell_type": "code",
   "execution_count": null,
   "metadata": {},
   "outputs": [],
   "source": [
    "print(f\"Number of Columns : {len(txDF.columns)}\")\n",
    "print(f\"Number of Rows : {len(txDF)}\")\n",
    "txDF.columns"
   ]
  },
  {
   "cell_type": "code",
   "execution_count": null,
   "metadata": {},
   "outputs": [],
   "source": [
    "#create df for selected cities \n",
    "tx_metro_cities =  ['Austin', 'Round Rock', 'Cedar Park',\n",
    "                 'San Marcos', 'Georgetown', 'Pflugerville',\n",
    "                 'Hutto', 'Buda', 'Kyle', 'Leander',\n",
    "                 'Dallas', 'Fort Worth', 'Arlington', \n",
    "                 'Plano','Garland', 'Irving', 'McKinney', \n",
    "                 'Frisco','Denton','Richardson', 'Allen','El Paso',\n",
    "                 'Houston', 'The Woodlands', 'Sugar Land',\n",
    "                 'Baytown', 'Conroe','San Antonio', 'New Braunfels', \n",
    "                 'Schertz', 'Seguin']\n",
    "condition = txDF['City'].isin(tx_metro_cities)\n",
    "tx_metro_cities_df = txDF[condition]\n",
    "\n",
    "print(f\"Number of Columns : {len(tx_metro_cities_df.columns)}\")\n",
    "print(f\"Number of Rows : {len(tx_metro_cities_df)}\")\n"
   ]
  },
  {
   "cell_type": "code",
   "execution_count": null,
   "metadata": {},
   "outputs": [],
   "source": []
  }
 ],
 "metadata": {
  "kernelspec": {
   "display_name": "Python 3",
   "language": "python",
   "name": "python3"
  },
  "language_info": {
   "codemirror_mode": {
    "name": "ipython",
    "version": 3
   },
   "file_extension": ".py",
   "mimetype": "text/x-python",
   "name": "python",
   "nbconvert_exporter": "python",
   "pygments_lexer": "ipython3",
   "version": "3.6.10"
  }
 },
 "nbformat": 4,
 "nbformat_minor": 2
}
