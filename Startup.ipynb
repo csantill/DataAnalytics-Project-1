{
 "cells": [
  {
   "cell_type": "code",
   "execution_count": null,
   "metadata": {},
   "outputs": [],
   "source": [
    "# Dependencies and Setup\n",
    "import os\n",
    "import matplotlib.pyplot as plt\n",
    "import pandas as pd\n",
    "import numpy as np\n",
    "import json\n"
   ]
  },
  {
   "cell_type": "code",
   "execution_count": null,
   "metadata": {},
   "outputs": [],
   "source": [
    "# Check if data has been pickled and if so load pickle\n",
    "# else pickle only the attributes we are interested in, and compress\n",
    "# pickle is much faster/smaller than csv\n",
    "if os.path.exists('data/txDF.pkl') :\n",
    "    txDF=pd.read_pickle('data/txDF.pkl',compression='gzip')\n",
    "else:\n",
    "    df = pd.read_csv('data/US_Accidents_Dec19.csv',encoding='utf-8')\n",
    "    columns_of_interest=[\n",
    "        'ID','Severity','Start_Time','End_Time','Start_Lat', 'Start_Lng', 'City', \n",
    "        'County', 'State','Zipcode', 'Country','Visibility(mi)', \n",
    "        'Weather_Condition','Precipitation(in)','Sunrise_Sunset','Civil_Twilight'\n",
    "    ]\n",
    "    condition=df['State'] =='TX'\n",
    "    txDF=df[condition][columns_of_interest] \n",
    "    txDF.to_pickle(\"data/txDF.pkl\",compression='gzip')"
   ]
  },
  {
   "cell_type": "code",
   "execution_count": null,
   "metadata": {},
   "outputs": [],
   "source": [
    "txDF.columns"
   ]
  },
  {
   "cell_type": "code",
   "execution_count": null,
   "metadata": {},
   "outputs": [],
   "source": [
    "txDF['City'].value_counts()"
   ]
  },
  {
   "cell_type": "code",
   "execution_count": null,
   "metadata": {},
   "outputs": [],
   "source": []
  },
  {
   "cell_type": "code",
   "execution_count": null,
   "metadata": {},
   "outputs": [],
   "source": [
    "txDF"
   ]
  }
 ],
 "metadata": {
  "kernelspec": {
   "display_name": "Python 3",
   "language": "python",
   "name": "python3"
  },
  "language_info": {
   "codemirror_mode": {
    "name": "ipython",
    "version": 3
   },
   "file_extension": ".py",
   "mimetype": "text/x-python",
   "name": "python",
   "nbconvert_exporter": "python",
   "pygments_lexer": "ipython3",
   "version": "3.7.1"
  }
 },
 "nbformat": 4,
 "nbformat_minor": 2
}
