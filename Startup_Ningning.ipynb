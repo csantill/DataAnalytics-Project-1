{
 "cells": [
  {
   "cell_type": "code",
   "execution_count": 8,
   "metadata": {},
   "outputs": [],
   "source": [
    "# Dependencies and Setup\n",
    "import matplotlib.pyplot as plt\n",
    "import pandas as pd\n",
    "import numpy as np\n",
    "import seaborn as sb\n",
    "import json"
   ]
  },
  {
   "cell_type": "code",
   "execution_count": null,
   "metadata": {},
   "outputs": [],
   "source": [
    "# data clean up- missing counts etc\n",
    "\n",
    "# stats summary: count by city, severity by weather condition etc\n",
    "\n",
    "# histogram :\n",
    "#     date\n",
    "#     time\n",
    "#     temperature\n",
    "#     windchill\n",
    "#     humidity\n",
    "#     pressure \n",
    "    \n",
    "    \n",
    "    \n",
    "# heat map of # of accidents\n",
    "\n",
    "# bar char or pie chart # of accidents vs  POI\n",
    "\n",
    "# severity \n",
    "\n",
    "# correlation of # of accidents to all factors(how to deal with discountinous factors)\n",
    "\n"
   ]
  },
  {
   "cell_type": "code",
   "execution_count": 3,
   "metadata": {},
   "outputs": [
    {
     "data": {
      "text/html": [
       "<div>\n",
       "<style scoped>\n",
       "    .dataframe tbody tr th:only-of-type {\n",
       "        vertical-align: middle;\n",
       "    }\n",
       "\n",
       "    .dataframe tbody tr th {\n",
       "        vertical-align: top;\n",
       "    }\n",
       "\n",
       "    .dataframe thead th {\n",
       "        text-align: right;\n",
       "    }\n",
       "</style>\n",
       "<table border=\"1\" class=\"dataframe\">\n",
       "  <thead>\n",
       "    <tr style=\"text-align: right;\">\n",
       "      <th></th>\n",
       "      <th>ID</th>\n",
       "      <th>Source</th>\n",
       "      <th>TMC</th>\n",
       "      <th>Severity</th>\n",
       "      <th>Start_Time</th>\n",
       "      <th>End_Time</th>\n",
       "      <th>Start_Lat</th>\n",
       "      <th>Start_Lng</th>\n",
       "      <th>End_Lat</th>\n",
       "      <th>End_Lng</th>\n",
       "      <th>...</th>\n",
       "      <th>Roundabout</th>\n",
       "      <th>Station</th>\n",
       "      <th>Stop</th>\n",
       "      <th>Traffic_Calming</th>\n",
       "      <th>Traffic_Signal</th>\n",
       "      <th>Turning_Loop</th>\n",
       "      <th>Sunrise_Sunset</th>\n",
       "      <th>Civil_Twilight</th>\n",
       "      <th>Nautical_Twilight</th>\n",
       "      <th>Astronomical_Twilight</th>\n",
       "    </tr>\n",
       "  </thead>\n",
       "  <tbody>\n",
       "    <tr>\n",
       "      <td>0</td>\n",
       "      <td>A-1</td>\n",
       "      <td>MapQuest</td>\n",
       "      <td>201.0</td>\n",
       "      <td>3</td>\n",
       "      <td>2016-02-08 05:46:00</td>\n",
       "      <td>2016-02-08 11:00:00</td>\n",
       "      <td>39.865147</td>\n",
       "      <td>-84.058723</td>\n",
       "      <td>NaN</td>\n",
       "      <td>NaN</td>\n",
       "      <td>...</td>\n",
       "      <td>False</td>\n",
       "      <td>False</td>\n",
       "      <td>False</td>\n",
       "      <td>False</td>\n",
       "      <td>False</td>\n",
       "      <td>False</td>\n",
       "      <td>Night</td>\n",
       "      <td>Night</td>\n",
       "      <td>Night</td>\n",
       "      <td>Night</td>\n",
       "    </tr>\n",
       "    <tr>\n",
       "      <td>1</td>\n",
       "      <td>A-2</td>\n",
       "      <td>MapQuest</td>\n",
       "      <td>201.0</td>\n",
       "      <td>2</td>\n",
       "      <td>2016-02-08 06:07:59</td>\n",
       "      <td>2016-02-08 06:37:59</td>\n",
       "      <td>39.928059</td>\n",
       "      <td>-82.831184</td>\n",
       "      <td>NaN</td>\n",
       "      <td>NaN</td>\n",
       "      <td>...</td>\n",
       "      <td>False</td>\n",
       "      <td>False</td>\n",
       "      <td>False</td>\n",
       "      <td>False</td>\n",
       "      <td>False</td>\n",
       "      <td>False</td>\n",
       "      <td>Night</td>\n",
       "      <td>Night</td>\n",
       "      <td>Night</td>\n",
       "      <td>Day</td>\n",
       "    </tr>\n",
       "    <tr>\n",
       "      <td>2</td>\n",
       "      <td>A-3</td>\n",
       "      <td>MapQuest</td>\n",
       "      <td>201.0</td>\n",
       "      <td>2</td>\n",
       "      <td>2016-02-08 06:49:27</td>\n",
       "      <td>2016-02-08 07:19:27</td>\n",
       "      <td>39.063148</td>\n",
       "      <td>-84.032608</td>\n",
       "      <td>NaN</td>\n",
       "      <td>NaN</td>\n",
       "      <td>...</td>\n",
       "      <td>False</td>\n",
       "      <td>False</td>\n",
       "      <td>False</td>\n",
       "      <td>False</td>\n",
       "      <td>True</td>\n",
       "      <td>False</td>\n",
       "      <td>Night</td>\n",
       "      <td>Night</td>\n",
       "      <td>Day</td>\n",
       "      <td>Day</td>\n",
       "    </tr>\n",
       "    <tr>\n",
       "      <td>3</td>\n",
       "      <td>A-4</td>\n",
       "      <td>MapQuest</td>\n",
       "      <td>201.0</td>\n",
       "      <td>3</td>\n",
       "      <td>2016-02-08 07:23:34</td>\n",
       "      <td>2016-02-08 07:53:34</td>\n",
       "      <td>39.747753</td>\n",
       "      <td>-84.205582</td>\n",
       "      <td>NaN</td>\n",
       "      <td>NaN</td>\n",
       "      <td>...</td>\n",
       "      <td>False</td>\n",
       "      <td>False</td>\n",
       "      <td>False</td>\n",
       "      <td>False</td>\n",
       "      <td>False</td>\n",
       "      <td>False</td>\n",
       "      <td>Night</td>\n",
       "      <td>Day</td>\n",
       "      <td>Day</td>\n",
       "      <td>Day</td>\n",
       "    </tr>\n",
       "    <tr>\n",
       "      <td>4</td>\n",
       "      <td>A-5</td>\n",
       "      <td>MapQuest</td>\n",
       "      <td>201.0</td>\n",
       "      <td>2</td>\n",
       "      <td>2016-02-08 07:39:07</td>\n",
       "      <td>2016-02-08 08:09:07</td>\n",
       "      <td>39.627781</td>\n",
       "      <td>-84.188354</td>\n",
       "      <td>NaN</td>\n",
       "      <td>NaN</td>\n",
       "      <td>...</td>\n",
       "      <td>False</td>\n",
       "      <td>False</td>\n",
       "      <td>False</td>\n",
       "      <td>False</td>\n",
       "      <td>True</td>\n",
       "      <td>False</td>\n",
       "      <td>Day</td>\n",
       "      <td>Day</td>\n",
       "      <td>Day</td>\n",
       "      <td>Day</td>\n",
       "    </tr>\n",
       "  </tbody>\n",
       "</table>\n",
       "<p>5 rows × 49 columns</p>\n",
       "</div>"
      ],
      "text/plain": [
       "    ID    Source    TMC  Severity           Start_Time             End_Time  \\\n",
       "0  A-1  MapQuest  201.0         3  2016-02-08 05:46:00  2016-02-08 11:00:00   \n",
       "1  A-2  MapQuest  201.0         2  2016-02-08 06:07:59  2016-02-08 06:37:59   \n",
       "2  A-3  MapQuest  201.0         2  2016-02-08 06:49:27  2016-02-08 07:19:27   \n",
       "3  A-4  MapQuest  201.0         3  2016-02-08 07:23:34  2016-02-08 07:53:34   \n",
       "4  A-5  MapQuest  201.0         2  2016-02-08 07:39:07  2016-02-08 08:09:07   \n",
       "\n",
       "   Start_Lat  Start_Lng  End_Lat  End_Lng  ...  Roundabout Station   Stop  \\\n",
       "0  39.865147 -84.058723      NaN      NaN  ...       False   False  False   \n",
       "1  39.928059 -82.831184      NaN      NaN  ...       False   False  False   \n",
       "2  39.063148 -84.032608      NaN      NaN  ...       False   False  False   \n",
       "3  39.747753 -84.205582      NaN      NaN  ...       False   False  False   \n",
       "4  39.627781 -84.188354      NaN      NaN  ...       False   False  False   \n",
       "\n",
       "  Traffic_Calming Traffic_Signal Turning_Loop Sunrise_Sunset Civil_Twilight  \\\n",
       "0           False          False        False          Night          Night   \n",
       "1           False          False        False          Night          Night   \n",
       "2           False           True        False          Night          Night   \n",
       "3           False          False        False          Night            Day   \n",
       "4           False           True        False            Day            Day   \n",
       "\n",
       "  Nautical_Twilight Astronomical_Twilight  \n",
       "0             Night                 Night  \n",
       "1             Night                   Day  \n",
       "2               Day                   Day  \n",
       "3               Day                   Day  \n",
       "4               Day                   Day  \n",
       "\n",
       "[5 rows x 49 columns]"
      ]
     },
     "execution_count": 3,
     "metadata": {},
     "output_type": "execute_result"
    }
   ],
   "source": [
    "\n",
    "df = pd.read_csv('data/US_Accidents_Dec19.csv',encoding='utf-8')\n",
    "df.head()\n",
    "#outputs: Number of accidents, Severity, Distance\n",
    "#do something with the description??\n",
    "#side of street\n",
    "#value count by percent?"
   ]
  },
  {
   "cell_type": "code",
   "execution_count": 4,
   "metadata": {},
   "outputs": [
    {
     "data": {
      "text/plain": [
       "Index(['ID', 'Source', 'TMC', 'Severity', 'Start_Time', 'End_Time',\n",
       "       'Start_Lat', 'Start_Lng', 'End_Lat', 'End_Lng', 'Distance(mi)',\n",
       "       'Description', 'Number', 'Street', 'Side', 'City', 'County', 'State',\n",
       "       'Zipcode', 'Country', 'Timezone', 'Airport_Code', 'Weather_Timestamp',\n",
       "       'Temperature(F)', 'Wind_Chill(F)', 'Humidity(%)', 'Pressure(in)',\n",
       "       'Visibility(mi)', 'Wind_Direction', 'Wind_Speed(mph)',\n",
       "       'Precipitation(in)', 'Weather_Condition', 'Amenity', 'Bump', 'Crossing',\n",
       "       'Give_Way', 'Junction', 'No_Exit', 'Railway', 'Roundabout', 'Station',\n",
       "       'Stop', 'Traffic_Calming', 'Traffic_Signal', 'Turning_Loop',\n",
       "       'Sunrise_Sunset', 'Civil_Twilight', 'Nautical_Twilight',\n",
       "       'Astronomical_Twilight'],\n",
       "      dtype='object')"
      ]
     },
     "execution_count": 4,
     "metadata": {},
     "output_type": "execute_result"
    }
   ],
   "source": [
    "df.columns"
   ]
  },
  {
   "cell_type": "code",
   "execution_count": 51,
   "metadata": {},
   "outputs": [
    {
     "data": {
      "text/html": [
       "<div>\n",
       "<style scoped>\n",
       "    .dataframe tbody tr th:only-of-type {\n",
       "        vertical-align: middle;\n",
       "    }\n",
       "\n",
       "    .dataframe tbody tr th {\n",
       "        vertical-align: top;\n",
       "    }\n",
       "\n",
       "    .dataframe thead th {\n",
       "        text-align: right;\n",
       "    }\n",
       "</style>\n",
       "<table border=\"1\" class=\"dataframe\">\n",
       "  <thead>\n",
       "    <tr style=\"text-align: right;\">\n",
       "      <th></th>\n",
       "      <th>TMC</th>\n",
       "      <th>Severity</th>\n",
       "      <th>Start_Lat</th>\n",
       "      <th>Start_Lng</th>\n",
       "      <th>End_Lat</th>\n",
       "      <th>End_Lng</th>\n",
       "      <th>Distance(mi)</th>\n",
       "      <th>Number</th>\n",
       "      <th>Temperature(F)</th>\n",
       "      <th>Wind_Chill(F)</th>\n",
       "      <th>Humidity(%)</th>\n",
       "      <th>Pressure(in)</th>\n",
       "      <th>Visibility(mi)</th>\n",
       "      <th>Wind_Speed(mph)</th>\n",
       "      <th>Precipitation(in)</th>\n",
       "    </tr>\n",
       "  </thead>\n",
       "  <tbody>\n",
       "    <tr>\n",
       "      <td>count</td>\n",
       "      <td>2.246264e+06</td>\n",
       "      <td>2.974335e+06</td>\n",
       "      <td>2.974335e+06</td>\n",
       "      <td>2.974335e+06</td>\n",
       "      <td>728071.000000</td>\n",
       "      <td>728071.000000</td>\n",
       "      <td>2.974335e+06</td>\n",
       "      <td>1.056730e+06</td>\n",
       "      <td>2.918272e+06</td>\n",
       "      <td>1.121712e+06</td>\n",
       "      <td>2.915162e+06</td>\n",
       "      <td>2.926193e+06</td>\n",
       "      <td>2.908644e+06</td>\n",
       "      <td>2.533495e+06</td>\n",
       "      <td>975977.000000</td>\n",
       "    </tr>\n",
       "    <tr>\n",
       "      <td>mean</td>\n",
       "      <td>2.078316e+02</td>\n",
       "      <td>2.360190e+00</td>\n",
       "      <td>3.649361e+01</td>\n",
       "      <td>-9.542625e+01</td>\n",
       "      <td>37.580871</td>\n",
       "      <td>-99.976032</td>\n",
       "      <td>2.855654e-01</td>\n",
       "      <td>5.837004e+03</td>\n",
       "      <td>6.235120e+01</td>\n",
       "      <td>5.132685e+01</td>\n",
       "      <td>6.540542e+01</td>\n",
       "      <td>2.983190e+01</td>\n",
       "      <td>9.150770e+00</td>\n",
       "      <td>8.298064e+00</td>\n",
       "      <td>0.020495</td>\n",
       "    </tr>\n",
       "    <tr>\n",
       "      <td>std</td>\n",
       "      <td>2.032959e+01</td>\n",
       "      <td>5.414733e-01</td>\n",
       "      <td>4.918849e+00</td>\n",
       "      <td>1.721881e+01</td>\n",
       "      <td>5.004757</td>\n",
       "      <td>18.416647</td>\n",
       "      <td>1.548392e+00</td>\n",
       "      <td>1.515928e+04</td>\n",
       "      <td>1.878855e+01</td>\n",
       "      <td>2.519127e+01</td>\n",
       "      <td>2.255676e+01</td>\n",
       "      <td>7.213808e-01</td>\n",
       "      <td>2.892114e+00</td>\n",
       "      <td>5.138546e+00</td>\n",
       "      <td>0.235770</td>\n",
       "    </tr>\n",
       "    <tr>\n",
       "      <td>min</td>\n",
       "      <td>2.000000e+02</td>\n",
       "      <td>1.000000e+00</td>\n",
       "      <td>2.455527e+01</td>\n",
       "      <td>-1.246238e+02</td>\n",
       "      <td>24.570110</td>\n",
       "      <td>-124.497829</td>\n",
       "      <td>0.000000e+00</td>\n",
       "      <td>0.000000e+00</td>\n",
       "      <td>-7.780000e+01</td>\n",
       "      <td>-6.590000e+01</td>\n",
       "      <td>1.000000e+00</td>\n",
       "      <td>0.000000e+00</td>\n",
       "      <td>0.000000e+00</td>\n",
       "      <td>0.000000e+00</td>\n",
       "      <td>0.000000</td>\n",
       "    </tr>\n",
       "    <tr>\n",
       "      <td>25%</td>\n",
       "      <td>2.010000e+02</td>\n",
       "      <td>2.000000e+00</td>\n",
       "      <td>3.355040e+01</td>\n",
       "      <td>-1.172920e+02</td>\n",
       "      <td>33.957554</td>\n",
       "      <td>-118.286610</td>\n",
       "      <td>0.000000e+00</td>\n",
       "      <td>8.370000e+02</td>\n",
       "      <td>5.000000e+01</td>\n",
       "      <td>3.200000e+01</td>\n",
       "      <td>4.900000e+01</td>\n",
       "      <td>2.982000e+01</td>\n",
       "      <td>1.000000e+01</td>\n",
       "      <td>4.600000e+00</td>\n",
       "      <td>0.000000</td>\n",
       "    </tr>\n",
       "    <tr>\n",
       "      <td>50%</td>\n",
       "      <td>2.010000e+02</td>\n",
       "      <td>2.000000e+00</td>\n",
       "      <td>3.584969e+01</td>\n",
       "      <td>-9.025083e+01</td>\n",
       "      <td>37.903670</td>\n",
       "      <td>-96.631690</td>\n",
       "      <td>0.000000e+00</td>\n",
       "      <td>2.717000e+03</td>\n",
       "      <td>6.440000e+01</td>\n",
       "      <td>5.400000e+01</td>\n",
       "      <td>6.700000e+01</td>\n",
       "      <td>2.998000e+01</td>\n",
       "      <td>1.000000e+01</td>\n",
       "      <td>7.000000e+00</td>\n",
       "      <td>0.000000</td>\n",
       "    </tr>\n",
       "    <tr>\n",
       "      <td>75%</td>\n",
       "      <td>2.010000e+02</td>\n",
       "      <td>3.000000e+00</td>\n",
       "      <td>4.037026e+01</td>\n",
       "      <td>-8.091891e+01</td>\n",
       "      <td>41.372630</td>\n",
       "      <td>-82.323850</td>\n",
       "      <td>1.000000e-02</td>\n",
       "      <td>7.000000e+03</td>\n",
       "      <td>7.600000e+01</td>\n",
       "      <td>7.300000e+01</td>\n",
       "      <td>8.400000e+01</td>\n",
       "      <td>3.011000e+01</td>\n",
       "      <td>1.000000e+01</td>\n",
       "      <td>1.040000e+01</td>\n",
       "      <td>0.000000</td>\n",
       "    </tr>\n",
       "    <tr>\n",
       "      <td>max</td>\n",
       "      <td>4.060000e+02</td>\n",
       "      <td>4.000000e+00</td>\n",
       "      <td>4.900220e+01</td>\n",
       "      <td>-6.711317e+01</td>\n",
       "      <td>49.075000</td>\n",
       "      <td>-67.109242</td>\n",
       "      <td>3.336300e+02</td>\n",
       "      <td>9.999997e+06</td>\n",
       "      <td>1.706000e+02</td>\n",
       "      <td>1.150000e+02</td>\n",
       "      <td>1.000000e+02</td>\n",
       "      <td>3.304000e+01</td>\n",
       "      <td>1.400000e+02</td>\n",
       "      <td>8.228000e+02</td>\n",
       "      <td>25.000000</td>\n",
       "    </tr>\n",
       "  </tbody>\n",
       "</table>\n",
       "</div>"
      ],
      "text/plain": [
       "                TMC      Severity     Start_Lat     Start_Lng        End_Lat  \\\n",
       "count  2.246264e+06  2.974335e+06  2.974335e+06  2.974335e+06  728071.000000   \n",
       "mean   2.078316e+02  2.360190e+00  3.649361e+01 -9.542625e+01      37.580871   \n",
       "std    2.032959e+01  5.414733e-01  4.918849e+00  1.721881e+01       5.004757   \n",
       "min    2.000000e+02  1.000000e+00  2.455527e+01 -1.246238e+02      24.570110   \n",
       "25%    2.010000e+02  2.000000e+00  3.355040e+01 -1.172920e+02      33.957554   \n",
       "50%    2.010000e+02  2.000000e+00  3.584969e+01 -9.025083e+01      37.903670   \n",
       "75%    2.010000e+02  3.000000e+00  4.037026e+01 -8.091891e+01      41.372630   \n",
       "max    4.060000e+02  4.000000e+00  4.900220e+01 -6.711317e+01      49.075000   \n",
       "\n",
       "             End_Lng  Distance(mi)        Number  Temperature(F)  \\\n",
       "count  728071.000000  2.974335e+06  1.056730e+06    2.918272e+06   \n",
       "mean      -99.976032  2.855654e-01  5.837004e+03    6.235120e+01   \n",
       "std        18.416647  1.548392e+00  1.515928e+04    1.878855e+01   \n",
       "min      -124.497829  0.000000e+00  0.000000e+00   -7.780000e+01   \n",
       "25%      -118.286610  0.000000e+00  8.370000e+02    5.000000e+01   \n",
       "50%       -96.631690  0.000000e+00  2.717000e+03    6.440000e+01   \n",
       "75%       -82.323850  1.000000e-02  7.000000e+03    7.600000e+01   \n",
       "max       -67.109242  3.336300e+02  9.999997e+06    1.706000e+02   \n",
       "\n",
       "       Wind_Chill(F)   Humidity(%)  Pressure(in)  Visibility(mi)  \\\n",
       "count   1.121712e+06  2.915162e+06  2.926193e+06    2.908644e+06   \n",
       "mean    5.132685e+01  6.540542e+01  2.983190e+01    9.150770e+00   \n",
       "std     2.519127e+01  2.255676e+01  7.213808e-01    2.892114e+00   \n",
       "min    -6.590000e+01  1.000000e+00  0.000000e+00    0.000000e+00   \n",
       "25%     3.200000e+01  4.900000e+01  2.982000e+01    1.000000e+01   \n",
       "50%     5.400000e+01  6.700000e+01  2.998000e+01    1.000000e+01   \n",
       "75%     7.300000e+01  8.400000e+01  3.011000e+01    1.000000e+01   \n",
       "max     1.150000e+02  1.000000e+02  3.304000e+01    1.400000e+02   \n",
       "\n",
       "       Wind_Speed(mph)  Precipitation(in)  \n",
       "count     2.533495e+06      975977.000000  \n",
       "mean      8.298064e+00           0.020495  \n",
       "std       5.138546e+00           0.235770  \n",
       "min       0.000000e+00           0.000000  \n",
       "25%       4.600000e+00           0.000000  \n",
       "50%       7.000000e+00           0.000000  \n",
       "75%       1.040000e+01           0.000000  \n",
       "max       8.228000e+02          25.000000  "
      ]
     },
     "execution_count": 51,
     "metadata": {},
     "output_type": "execute_result"
    }
   ],
   "source": [
    "df.describe()"
   ]
  },
  {
   "cell_type": "code",
   "execution_count": 5,
   "metadata": {},
   "outputs": [
    {
     "data": {
      "text/plain": [
       "Houston          93245\n",
       "Austin           58553\n",
       "Dallas           57823\n",
       "San Antonio      21613\n",
       "El Paso           9352\n",
       "                 ...  \n",
       "Glenn Heights        1\n",
       "Bedias               1\n",
       "McLean               1\n",
       "Encino               1\n",
       "Overton              1\n",
       "Name: City, Length: 713, dtype: int64"
      ]
     },
     "execution_count": 5,
     "metadata": {},
     "output_type": "execute_result"
    }
   ],
   "source": [
    "columns_of_interest=['ID','Severity','Start_Time','End_Time','Start_Lat', 'Start_Lng', 'City', 'County', 'State',\n",
    "       'Zipcode', 'Country','Visibility(mi)', 'Weather_Condition','Precipitation(in)','Sunrise_Sunset','Civil_Twilight']\n",
    "condition=df['State'] =='TX'\n",
    "txDF=df[condition][columns_of_interest]\n",
    "\n",
    "txDF.head()\n",
    "\n",
    "txDF['City'].value_counts()"
   ]
  },
  {
   "cell_type": "code",
   "execution_count": 19,
   "metadata": {
    "scrolled": true
   },
   "outputs": [
    {
     "name": "stdout",
     "output_type": "stream",
     "text": [
      "Help on method bar in module pandas.plotting._core:\n",
      "\n",
      "bar(x=None, y=None, **kwargs) method of pandas.plotting._core.PlotAccessor instance\n",
      "    Vertical bar plot.\n",
      "    \n",
      "    A bar plot is a plot that presents categorical data with\n",
      "    rectangular bars with lengths proportional to the values that they\n",
      "    represent. A bar plot shows comparisons among discrete categories. One\n",
      "    axis of the plot shows the specific categories being compared, and the\n",
      "    other axis represents a measured value.\n",
      "    \n",
      "    Parameters\n",
      "    ----------\n",
      "    x : label or position, optional\n",
      "        Allows plotting of one column versus another. If not specified,\n",
      "        the index of the DataFrame is used.\n",
      "    y : label or position, optional\n",
      "        Allows plotting of one column versus another. If not specified,\n",
      "        all numerical columns are used.\n",
      "    **kwds\n",
      "        Additional keyword arguments are documented in\n",
      "        :meth:`DataFrame.plot`.\n",
      "    \n",
      "    Returns\n",
      "    -------\n",
      "    matplotlib.axes.Axes or np.ndarray of them\n",
      "        An ndarray is returned with one :class:`matplotlib.axes.Axes`\n",
      "        per column when ``subplots=True``.\n",
      "    \n",
      "    See Also\n",
      "    --------\n",
      "    DataFrame.plot.barh : Horizontal bar plot.\n",
      "    DataFrame.plot : Make plots of a DataFrame.\n",
      "    matplotlib.pyplot.bar : Make a bar plot with matplotlib.\n",
      "    \n",
      "    Examples\n",
      "    --------\n",
      "    Basic plot.\n",
      "    \n",
      "    .. plot::\n",
      "        :context: close-figs\n",
      "    \n",
      "        >>> df = pd.DataFrame({'lab':['A', 'B', 'C'], 'val':[10, 30, 20]})\n",
      "        >>> ax = df.plot.bar(x='lab', y='val', rot=0)\n",
      "    \n",
      "    Plot a whole dataframe to a bar plot. Each column is assigned a\n",
      "    distinct color, and each row is nested in a group along the\n",
      "    horizontal axis.\n",
      "    \n",
      "    .. plot::\n",
      "        :context: close-figs\n",
      "    \n",
      "        >>> speed = [0.1, 17.5, 40, 48, 52, 69, 88]\n",
      "        >>> lifespan = [2, 8, 70, 1.5, 25, 12, 28]\n",
      "        >>> index = ['snail', 'pig', 'elephant',\n",
      "        ...          'rabbit', 'giraffe', 'coyote', 'horse']\n",
      "        >>> df = pd.DataFrame({'speed': speed,\n",
      "        ...                    'lifespan': lifespan}, index=index)\n",
      "        >>> ax = df.plot.bar(rot=0)\n",
      "    \n",
      "    Instead of nesting, the figure can be split by column with\n",
      "    ``subplots=True``. In this case, a :class:`numpy.ndarray` of\n",
      "    :class:`matplotlib.axes.Axes` are returned.\n",
      "    \n",
      "    .. plot::\n",
      "        :context: close-figs\n",
      "    \n",
      "        >>> axes = df.plot.bar(rot=0, subplots=True)\n",
      "        >>> axes[1].legend(loc=2)  # doctest: +SKIP\n",
      "    \n",
      "    Plot a single column.\n",
      "    \n",
      "    .. plot::\n",
      "        :context: close-figs\n",
      "    \n",
      "        >>> ax = df.plot.bar(y='speed', rot=0)\n",
      "    \n",
      "    Plot only selected categories for the DataFrame.\n",
      "    \n",
      "    .. plot::\n",
      "        :context: close-figs\n",
      "    \n",
      "        >>> ax = df.plot.bar(x='lifespan', rot=0)\n",
      "\n"
     ]
    }
   ],
   "source": [
    "txDF=df[condition]\n",
    "txDF.head()\n"
   ]
  },
  {
   "cell_type": "code",
   "execution_count": 53,
   "metadata": {
    "scrolled": true
   },
   "outputs": [
    {
     "data": {
      "text/plain": [
       "Text(0, 0.5, 'Number of Accidents')"
      ]
     },
     "execution_count": 53,
     "metadata": {},
     "output_type": "execute_result"
    },
    {
     "data": {
      "image/png": "[encoded data removed]",
      "text/plain": [
       "<Figure size 432x288 with 1 Axes>"
      ]
     },
     "metadata": {},
     "output_type": "display_data"
    }
   ],
   "source": [
    "axes= df[\"Weather_Condition\"].value_counts().head(20).plot.bar()\n",
    "axes.set_ylabel(\"Number of Accidents\")\n"
   ]
  },
  {
   "cell_type": "code",
   "execution_count": 35,
   "metadata": {
    "scrolled": true
   },
   "outputs": [
    {
     "data": {
      "text/plain": [
       "Text(0, 0.5, 'Number of Accidents')"
      ]
     },
     "execution_count": 35,
     "metadata": {},
     "output_type": "execute_result"
    },
    {
     "data": {
      "image/png": "[encoded data removed]",
      "text/plain": [
       "<Figure size 432x288 with 1 Axes>"
      ]
     },
     "metadata": {
      "needs_background": "light"
     },
     "output_type": "display_data"
    }
   ],
   "source": [
    "axes=number_accident_vs_weather= df[\"State\"].value_counts().head(20).plot.bar()\n",
    "axes.set_ylabel(\"Number of Accidents\")"
   ]
  },
  {
   "cell_type": "code",
   "execution_count": 37,
   "metadata": {
    "scrolled": true
   },
   "outputs": [
    {
     "data": {
      "text/plain": [
       "Text(0.5, 0, 'Amenity')"
      ]
     },
     "execution_count": 37,
     "metadata": {},
     "output_type": "execute_result"
    },
    {
     "data": {
      "image/png": "[encoded data removed]",
      "text/plain": [
       "<Figure size 432x288 with 1 Axes>"
      ]
     },
     "metadata": {
      "needs_background": "light"
     },
     "output_type": "display_data"
    }
   ],
   "source": [
    "axes=number_accident_vs_weather= df[\"Amenity\"].value_counts().head(20).plot.bar()\n",
    "axes.set_ylabel(\"Number of Accidents\")\n",
    "axes.set_xlabel(\"Amenity\")"
   ]
  },
  {
   "cell_type": "code",
   "execution_count": 39,
   "metadata": {
    "scrolled": true
   },
   "outputs": [
    {
     "data": {
      "text/plain": [
       "Text(0.5, 0, 'Roundabout')"
      ]
     },
     "execution_count": 39,
     "metadata": {},
     "output_type": "execute_result"
    },
    {
     "data": {
      "image/png": "[encoded data removed]",
      "text/plain": [
       "<Figure size 432x288 with 1 Axes>"
      ]
     },
     "metadata": {
      "needs_background": "light"
     },
     "output_type": "display_data"
    }
   ],
   "source": [
    "axes=number_accident_vs_weather= df[\"Roundabout\"].value_counts().head(20).plot.bar()\n",
    "axes.set_ylabel(\"Number of Accidents\")\n",
    "axes.set_xlabel(\"Roundabout\")"
   ]
  },
  {
   "cell_type": "code",
   "execution_count": null,
   "metadata": {},
   "outputs": [],
   "source": []
  },
  {
   "cell_type": "code",
   "execution_count": 40,
   "metadata": {
    "scrolled": true
   },
   "outputs": [
    {
     "data": {
      "text/plain": [
       "Text(0.5, 0, 'Bump')"
      ]
     },
     "execution_count": 40,
     "metadata": {},
     "output_type": "execute_result"
    },
    {
     "data": {
      "image/png": "[encoded data removed]",
      "text/plain": [
       "<Figure size 432x288 with 1 Axes>"
      ]
     },
     "metadata": {
      "needs_background": "light"
     },
     "output_type": "display_data"
    }
   ],
   "source": [
    "axes=number_accident_vs_weather= df[\"Bump\"].value_counts().head(20).plot.bar()\n",
    "axes.set_ylabel(\"Number of Accidents\")\n",
    "axes.set_xlabel(\"Bump\")"
   ]
  },
  {
   "cell_type": "code",
   "execution_count": 50,
   "metadata": {},
   "outputs": [
    {
     "data": {
      "text/plain": [
       "Bump\n",
       "False    2.360227\n",
       "True     2.121145\n",
       "Name: Severity, dtype: float64"
      ]
     },
     "execution_count": 50,
     "metadata": {},
     "output_type": "execute_result"
    }
   ],
   "source": [
    "# Is severity affected by Bump, Roundabout, etc?\n",
    "#statistical significance?\n",
    "df.groupby(\"Bump\")[\"Severity\"].mean()"
   ]
  },
  {
   "cell_type": "code",
   "execution_count": 52,
   "metadata": {},
   "outputs": [
    {
     "data": {
      "text/plain": [
       "<matplotlib.axes._subplots.AxesSubplot at 0x134e49550>"
      ]
     },
     "execution_count": 52,
     "metadata": {},
     "output_type": "execute_result"
    },
    {
     "data": {
      "image/png": "[encoded data removed]",
      "text/plain": [
       "<Figure size 792x648 with 2 Axes>"
      ]
     },
     "metadata": {},
     "output_type": "display_data"
    }
   ],
   "source": [
    "sb.set(style=\"white\")\n",
    "\n",
    "\n",
    "# Compute the correlation matrix\n",
    "corr = df.corr()\n",
    "\n",
    "# Generate a mask for the upper triangle\n",
    "mask = np.triu(np.ones_like(corr, dtype=np.bool))\n",
    "\n",
    "# Set up the matplotlib figure\n",
    "f, ax = plt.subplots(figsize=(11, 9))\n",
    "\n",
    "# Generate a custom diverging colormap\n",
    "cmap = sb.diverging_palette(220, 10, as_cmap=True)\n",
    "\n",
    "# Draw the heatmap with the mask and correct aspect ratio\n",
    "sb.heatmap(corr, mask=mask, cmap=cmap, vmax=.3, center=0,\n",
    "            square=True, linewidths=.5, cbar_kws={\"shrink\": .5})"
   ]
  },
  {
   "cell_type": "code",
   "execution_count": 62,
   "metadata": {},
   "outputs": [],
   "source": [
    "dfBump=df[\"Bump\"].value_counts()"
   ]
  },
  {
   "cell_type": "code",
   "execution_count": null,
   "metadata": {},
   "outputs": [],
   "source": []
  },
  {
   "cell_type": "code",
   "execution_count": null,
   "metadata": {},
   "outputs": [],
   "source": []
  }
 ],
 "metadata": {
  "kernelspec": {
   "display_name": "Python 3",
   "language": "python",
   "name": "python3"
  },
  "language_info": {
   "codemirror_mode": {
    "name": "ipython",
    "version": 3
   },
   "file_extension": ".py",
   "mimetype": "text/x-python",
   "name": "python",
   "nbconvert_exporter": "python",
   "pygments_lexer": "ipython3",
   "version": "3.7.4"
  }
 },
 "nbformat": 4,
 "nbformat_minor": 2
}
